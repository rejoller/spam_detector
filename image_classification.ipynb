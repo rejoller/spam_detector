{
 "cells": [
  {
   "cell_type": "code",
   "execution_count": 4,
   "metadata": {},
   "outputs": [
    {
     "data": {
      "text/plain": [
       "'normal'"
      ]
     },
     "execution_count": 4,
     "metadata": {},
     "output_type": "execute_result"
    }
   ],
   "source": [
    "\n",
    "# Load model directly\n",
    "import torch\n",
    "from PIL import Image\n",
    "from transformers import AutoModelForImageClassification, ViTImageProcessor\n",
    "\n",
    "img = Image.open(\"13928601.JPG\")\n",
    "model = AutoModelForImageClassification.from_pretrained(\"Falconsai/nsfw_image_detection\")\n",
    "processor = ViTImageProcessor.from_pretrained('Falconsai/nsfw_image_detection')\n",
    "with torch.no_grad():\n",
    "    inputs = processor(images=img, return_tensors=\"pt\")\n",
    "    outputs = model(**inputs)\n",
    "    logits = outputs.logits\n",
    "\n",
    "predicted_label = logits.argmax(-1).item()\n",
    "model.config.id2label[predicted_label]\n"
   ]
  }
 ],
 "metadata": {
  "kernelspec": {
   "display_name": ".venv",
   "language": "python",
   "name": "python3"
  },
  "language_info": {
   "codemirror_mode": {
    "name": "ipython",
    "version": 3
   },
   "file_extension": ".py",
   "mimetype": "text/x-python",
   "name": "python",
   "nbconvert_exporter": "python",
   "pygments_lexer": "ipython3",
   "version": "3.12.4"
  }
 },
 "nbformat": 4,
 "nbformat_minor": 2
}
