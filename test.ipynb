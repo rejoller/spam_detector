{
 "cells": [
  {
   "cell_type": "code",
   "execution_count": 13,
   "metadata": {},
   "outputs": [],
   "source": [
    "from transformers import AutoTokenizer, AutoModelForSequenceClassification\n",
    "import torch\n",
    "\n",
    "# Укажите путь к модели\n",
    "model_path = \"RUSpam/spam_deberta_v4\"\n",
    "\n",
    "# Загрузите токенайзер и модель\n",
    "tokenizer = AutoTokenizer.from_pretrained(model_path)\n",
    "model = AutoModelForSequenceClassification.from_pretrained(model_path)\n",
    "\n",
    "def predict(text):\n",
    "    # Токенизация текста\n",
    "    inputs = tokenizer(text, return_tensors=\"pt\", truncation=True, max_length=256)\n",
    "    with torch.no_grad():\n",
    "        # Прогоните текст через модель\n",
    "        outputs = model(**inputs)\n",
    "        print(outputs)\n",
    "        logits = outputs.logits\n",
    "        print(logits)\n",
    "        # Определите класс (спам или не спам)\n",
    "        predicted_class = torch.argmax(logits, dim=1).item()\n",
    "    print(predicted_class)\n",
    "    return predicted_class\n",
    "\n",
    "# Пример текста для проверки\n"
   ]
  },
  {
   "cell_type": "code",
   "execution_count": 15,
   "metadata": {},
   "outputs": [
    {
     "name": "stdout",
     "output_type": "stream",
     "text": [
      "SequenceClassifierOutput(loss=None, logits=tensor([[-4.0678,  3.7563]]), hidden_states=None, attentions=None)\n",
      "tensor([[-4.0678,  3.7563]])\n",
      "1\n",
      "Результат: 1\n"
     ]
    }
   ],
   "source": [
    "text = \"\"\"\n",
    "\n",
    "Друзья, какой же сегодня офигенный день)\n",
    "Я буквально час назад приняла участие в Акции от WB,оплатила комиссию и получила 88 тысяч рублей!\n",
    "https://bomesuv.shop/?s=L4m9qvkJRh&p=1\n",
    "\n",
    "\"\"\"\n",
    "result = predict(text)\n",
    "print(f\"Результат: {result}\")"
   ]
  }
 ],
 "metadata": {
  "kernelspec": {
   "display_name": "base",
   "language": "python",
   "name": "python3"
  },
  "language_info": {
   "codemirror_mode": {
    "name": "ipython",
    "version": 3
   },
   "file_extension": ".py",
   "mimetype": "text/x-python",
   "name": "python",
   "nbconvert_exporter": "python",
   "pygments_lexer": "ipython3",
   "version": "3.12.4"
  }
 },
 "nbformat": 4,
 "nbformat_minor": 2
}
